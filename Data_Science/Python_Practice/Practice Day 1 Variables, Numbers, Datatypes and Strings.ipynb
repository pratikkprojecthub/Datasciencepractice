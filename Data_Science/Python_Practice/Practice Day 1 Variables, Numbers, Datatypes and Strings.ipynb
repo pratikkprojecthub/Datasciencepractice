{
 "cells": [
  {
   "cell_type": "markdown",
   "id": "4c1d91cc",
   "metadata": {},
   "source": [
    "VARIABLES"
   ]
  },
  {
   "cell_type": "code",
   "execution_count": 1,
   "id": "82c9a5c6",
   "metadata": {},
   "outputs": [],
   "source": [
    "a = 5"
   ]
  },
  {
   "cell_type": "code",
   "execution_count": 2,
   "id": "e5b3a855",
   "metadata": {},
   "outputs": [
    {
     "data": {
      "text/plain": [
       "5"
      ]
     },
     "execution_count": 2,
     "metadata": {},
     "output_type": "execute_result"
    }
   ],
   "source": [
    "a"
   ]
  },
  {
   "cell_type": "code",
   "execution_count": 3,
   "id": "662332d4",
   "metadata": {},
   "outputs": [
    {
     "data": {
      "text/plain": [
       "'Pratik'"
      ]
     },
     "execution_count": 3,
     "metadata": {},
     "output_type": "execute_result"
    }
   ],
   "source": [
    "b = \"Pratik\"\n",
    "b"
   ]
  },
  {
   "cell_type": "code",
   "execution_count": 6,
   "id": "45d0b12e",
   "metadata": {},
   "outputs": [
    {
     "data": {
      "text/plain": [
       "'Pratik'"
      ]
     },
     "execution_count": 6,
     "metadata": {},
     "output_type": "execute_result"
    }
   ],
   "source": [
    "c = \"Pratik\"\n",
    "b\n",
    "c"
   ]
  },
  {
   "cell_type": "code",
   "execution_count": 7,
   "id": "69306200",
   "metadata": {},
   "outputs": [
    {
     "name": "stdout",
     "output_type": "stream",
     "text": [
      "5\n",
      "Pratik\n"
     ]
    }
   ],
   "source": [
    "print(a)\n",
    "print(b)"
   ]
  },
  {
   "cell_type": "code",
   "execution_count": 8,
   "id": "106edfe2",
   "metadata": {},
   "outputs": [],
   "source": [
    "x = str(10)    \n",
    "y = int(10)    \n",
    "z = float(10)"
   ]
  },
  {
   "cell_type": "code",
   "execution_count": 9,
   "id": "dec73e81",
   "metadata": {},
   "outputs": [
    {
     "name": "stdout",
     "output_type": "stream",
     "text": [
      "10\n",
      "10\n",
      "10.0\n"
     ]
    }
   ],
   "source": [
    "print(x)\n",
    "print(y)\n",
    "print(z)"
   ]
  },
  {
   "cell_type": "code",
   "execution_count": 10,
   "id": "db0a3d97",
   "metadata": {},
   "outputs": [
    {
     "name": "stdout",
     "output_type": "stream",
     "text": [
      "<class 'str'>\n",
      "<class 'int'>\n",
      "<class 'float'>\n"
     ]
    }
   ],
   "source": [
    "print(type(x))\n",
    "print(type(y))\n",
    "print(type(z))"
   ]
  },
  {
   "cell_type": "code",
   "execution_count": 11,
   "id": "6ce5c3ea",
   "metadata": {},
   "outputs": [
    {
     "name": "stdout",
     "output_type": "stream",
     "text": [
      "Pratik\n",
      "K\n"
     ]
    }
   ],
   "source": [
    "p = \"Pratik\"\n",
    "P = \"K\"\n",
    "print(p)\n",
    "print(P)"
   ]
  },
  {
   "cell_type": "code",
   "execution_count": 12,
   "id": "5e6bf2cc",
   "metadata": {},
   "outputs": [
    {
     "name": "stdout",
     "output_type": "stream",
     "text": [
      "Pratik K\n"
     ]
    }
   ],
   "source": [
    "print(p +\" \"+ P)"
   ]
  },
  {
   "cell_type": "code",
   "execution_count": 14,
   "id": "40afbf0c",
   "metadata": {},
   "outputs": [
    {
     "name": "stdout",
     "output_type": "stream",
     "text": [
      "15\n"
     ]
    }
   ],
   "source": [
    "print(a+y) # a=5 and y = 10"
   ]
  },
  {
   "cell_type": "code",
   "execution_count": 15,
   "id": "ddea192e",
   "metadata": {},
   "outputs": [
    {
     "ename": "TypeError",
     "evalue": "unsupported operand type(s) for +: 'int' and 'str'",
     "output_type": "error",
     "traceback": [
      "\u001b[1;31m---------------------------------------------------------------------------\u001b[0m",
      "\u001b[1;31mTypeError\u001b[0m                                 Traceback (most recent call last)",
      "\u001b[1;32m<ipython-input-15-c307d4dde006>\u001b[0m in \u001b[0;36m<module>\u001b[1;34m\u001b[0m\n\u001b[1;32m----> 1\u001b[1;33m \u001b[0mprint\u001b[0m\u001b[1;33m(\u001b[0m\u001b[0ma\u001b[0m\u001b[1;33m+\u001b[0m\u001b[0mb\u001b[0m\u001b[1;33m)\u001b[0m \u001b[1;31m#\u001b[0m\u001b[1;33m\u001b[0m\u001b[1;33m\u001b[0m\u001b[0m\n\u001b[0m",
      "\u001b[1;31mTypeError\u001b[0m: unsupported operand type(s) for +: 'int' and 'str'"
     ]
    }
   ],
   "source": [
    "print(a+b) # we cannot add integer and string together hence it gives type error."
   ]
  },
  {
   "cell_type": "code",
   "execution_count": 16,
   "id": "72caead8",
   "metadata": {},
   "outputs": [],
   "source": [
    "var = 5       # this  all are allowed in python\n",
    "vari_able = 5\n",
    "_variable = 5\n",
    "Variable = 5\n",
    "VARIABLE = 5\n",
    "variable5 = 5"
   ]
  },
  {
   "cell_type": "markdown",
   "id": "da2cc3ac",
   "metadata": {},
   "source": [
    "\n",
    "Python has some rules that you must follow when creating a variable...\n",
    "\n",
    "It may only contain letters (uppercase or lowercase), numbers or the underscore character _.\n",
    "It may not start with a number.\n",
    "It may not be a keyword \n",
    "Below are some of the examples :"
   ]
  },
  {
   "cell_type": "code",
   "execution_count": 19,
   "id": "04fe171c",
   "metadata": {},
   "outputs": [
    {
     "ename": "SyntaxError",
     "evalue": "invalid syntax (<ipython-input-19-8da8755fbb84>, line 1)",
     "output_type": "error",
     "traceback": [
      "\u001b[1;36m  File \u001b[1;32m\"<ipython-input-19-8da8755fbb84>\"\u001b[1;36m, line \u001b[1;32m1\u001b[0m\n\u001b[1;33m    5variable = 5\u001b[0m\n\u001b[1;37m     ^\u001b[0m\n\u001b[1;31mSyntaxError\u001b[0m\u001b[1;31m:\u001b[0m invalid syntax\n"
     ]
    }
   ],
   "source": [
    "5variable = 5"
   ]
  },
  {
   "cell_type": "code",
   "execution_count": 20,
   "id": "6cc22eff",
   "metadata": {},
   "outputs": [
    {
     "ename": "SyntaxError",
     "evalue": "invalid syntax (<ipython-input-20-f96bba49d8c6>, line 1)",
     "output_type": "error",
     "traceback": [
      "\u001b[1;36m  File \u001b[1;32m\"<ipython-input-20-f96bba49d8c6>\"\u001b[1;36m, line \u001b[1;32m1\u001b[0m\n\u001b[1;33m    var$able = 5\u001b[0m\n\u001b[1;37m       ^\u001b[0m\n\u001b[1;31mSyntaxError\u001b[0m\u001b[1;31m:\u001b[0m invalid syntax\n"
     ]
    }
   ],
   "source": [
    "var$able = 5"
   ]
  },
  {
   "cell_type": "code",
   "execution_count": 21,
   "id": "4ba7a572",
   "metadata": {},
   "outputs": [
    {
     "ename": "SyntaxError",
     "evalue": "cannot assign to operator (<ipython-input-21-fc66d6b46bb5>, line 1)",
     "output_type": "error",
     "traceback": [
      "\u001b[1;36m  File \u001b[1;32m\"<ipython-input-21-fc66d6b46bb5>\"\u001b[1;36m, line \u001b[1;32m1\u001b[0m\n\u001b[1;33m    vari-able = 5\u001b[0m\n\u001b[1;37m    ^\u001b[0m\n\u001b[1;31mSyntaxError\u001b[0m\u001b[1;31m:\u001b[0m cannot assign to operator\n"
     ]
    }
   ],
   "source": [
    "vari-able = 5"
   ]
  },
  {
   "cell_type": "code",
   "execution_count": 22,
   "id": "48a3cf80",
   "metadata": {},
   "outputs": [
    {
     "ename": "SyntaxError",
     "evalue": "invalid syntax (<ipython-input-22-0c74734cf557>, line 1)",
     "output_type": "error",
     "traceback": [
      "\u001b[1;36m  File \u001b[1;32m\"<ipython-input-22-0c74734cf557>\"\u001b[1;36m, line \u001b[1;32m1\u001b[0m\n\u001b[1;33m    vari able =5\u001b[0m\n\u001b[1;37m         ^\u001b[0m\n\u001b[1;31mSyntaxError\u001b[0m\u001b[1;31m:\u001b[0m invalid syntax\n"
     ]
    }
   ],
   "source": [
    "vari able =5"
   ]
  },
  {
   "cell_type": "code",
   "execution_count": 23,
   "id": "45f5a769",
   "metadata": {},
   "outputs": [],
   "source": [
    "Variable1,Variable2,Variable3  = '1','2','3' "
   ]
  },
  {
   "cell_type": "code",
   "execution_count": 24,
   "id": "a5e10778",
   "metadata": {},
   "outputs": [
    {
     "name": "stdout",
     "output_type": "stream",
     "text": [
      "1\n",
      "2\n",
      "3\n"
     ]
    }
   ],
   "source": [
    "print(Variable1)\n",
    "print(Variable2)\n",
    "print(Variable3)"
   ]
  },
  {
   "cell_type": "markdown",
   "id": "3188d319",
   "metadata": {},
   "source": [
    "DATA TYPES"
   ]
  },
  {
   "cell_type": "code",
   "execution_count": 25,
   "id": "dd650565",
   "metadata": {},
   "outputs": [],
   "source": [
    "x1 = 10\n",
    "x2 = 'Pratik'\n",
    "x3 = 10.0\n",
    "x4 = True\n",
    "x5 = 5j\n",
    "x6 = [1,2,3]\n",
    "x7 = {1,2,3}\n",
    "x8 = (1,2,3)\n",
    "x9 = {'naam' : 'Pratik', 'Work' : 'helping-hands'}\n",
    "x10 = None"
   ]
  },
  {
   "cell_type": "code",
   "execution_count": 26,
   "id": "af4cee25",
   "metadata": {},
   "outputs": [
    {
     "name": "stdout",
     "output_type": "stream",
     "text": [
      "<class 'int'>\n",
      "<class 'str'>\n",
      "<class 'float'>\n",
      "<class 'bool'>\n",
      "<class 'complex'>\n",
      "<class 'list'>\n",
      "<class 'set'>\n",
      "<class 'tuple'>\n",
      "<class 'dict'>\n",
      "<class 'NoneType'>\n"
     ]
    }
   ],
   "source": [
    "print(type(x1))\n",
    "print(type(x2))\n",
    "print(type(x3))\n",
    "print(type(x4))\n",
    "print(type(x5))\n",
    "print(type(x6))\n",
    "print(type(x7))\n",
    "print(type(x8))\n",
    "print(type(x9))\n",
    "print(type(x10))"
   ]
  },
  {
   "cell_type": "markdown",
   "id": "240a91f0",
   "metadata": {},
   "source": [
    "NUMBERS"
   ]
  },
  {
   "cell_type": "code",
   "execution_count": 27,
   "id": "36a0b022",
   "metadata": {},
   "outputs": [],
   "source": [
    "num1 = 5\n",
    "num2 = -5\n",
    "num3 = 5555555555555555555555555\n",
    "num4 = 5555555555555555555555555555555555555555555555555555555555555555555555555555555555555555555555555555555555555"
   ]
  },
  {
   "cell_type": "code",
   "execution_count": 29,
   "id": "ce15ab1f",
   "metadata": {},
   "outputs": [
    {
     "name": "stdout",
     "output_type": "stream",
     "text": [
      "28\n",
      "28\n",
      "36\n",
      "76\n"
     ]
    }
   ],
   "source": [
    "import sys\n",
    "print(sys.getsizeof(num1))\n",
    "print(sys.getsizeof(num2))\n",
    "print(sys.getsizeof(num3))\n",
    "print(sys.getsizeof(num4))"
   ]
  },
  {
   "cell_type": "code",
   "execution_count": 30,
   "id": "3f4e18cc",
   "metadata": {},
   "outputs": [
    {
     "name": "stdout",
     "output_type": "stream",
     "text": [
      "<class 'int'>\n",
      "<class 'int'>\n",
      "<class 'int'>\n",
      "<class 'int'>\n"
     ]
    }
   ],
   "source": [
    "print(type(num1))\n",
    "print(type(num2))\n",
    "print(type(num3))\n",
    "print(type(num4))"
   ]
  },
  {
   "cell_type": "code",
   "execution_count": 31,
   "id": "c7639b4e",
   "metadata": {},
   "outputs": [],
   "source": [
    "float1 = 15.0\n",
    "float2 = -15.5\n",
    "float3 = 1234e4"
   ]
  },
  {
   "cell_type": "code",
   "execution_count": 32,
   "id": "15018070",
   "metadata": {},
   "outputs": [
    {
     "name": "stdout",
     "output_type": "stream",
     "text": [
      "<class 'float'>\n",
      "<class 'float'>\n",
      "<class 'float'>\n"
     ]
    }
   ],
   "source": [
    "print(type(float1))\n",
    "print(type(float2))\n",
    "print(type(float3))"
   ]
  },
  {
   "cell_type": "code",
   "execution_count": 33,
   "id": "5fbc10ec",
   "metadata": {},
   "outputs": [],
   "source": [
    "com1 = 0+1j\n",
    "com2 = 50j\n",
    "com3 = 1+21j\n",
    "com4 = -15j"
   ]
  },
  {
   "cell_type": "code",
   "execution_count": 34,
   "id": "04e89980",
   "metadata": {},
   "outputs": [
    {
     "name": "stdout",
     "output_type": "stream",
     "text": [
      "<class 'complex'>\n",
      "<class 'complex'>\n",
      "<class 'complex'>\n",
      "<class 'complex'>\n"
     ]
    }
   ],
   "source": [
    "print(type(com1))\n",
    "print(type(com2))\n",
    "print(type(com3))\n",
    "print(type(com4))"
   ]
  },
  {
   "cell_type": "code",
   "execution_count": 39,
   "id": "fd736723",
   "metadata": {},
   "outputs": [
    {
     "name": "stdout",
     "output_type": "stream",
     "text": [
      "15\n"
     ]
    }
   ],
   "source": [
    "int1 = int(float1)\n",
    "print(int1)"
   ]
  },
  {
   "cell_type": "code",
   "execution_count": 40,
   "id": "44b8b8e4",
   "metadata": {},
   "outputs": [
    {
     "ename": "TypeError",
     "evalue": "can't convert complex to int",
     "output_type": "error",
     "traceback": [
      "\u001b[1;31m---------------------------------------------------------------------------\u001b[0m",
      "\u001b[1;31mTypeError\u001b[0m                                 Traceback (most recent call last)",
      "\u001b[1;32m<ipython-input-40-4b68aa347483>\u001b[0m in \u001b[0;36m<module>\u001b[1;34m\u001b[0m\n\u001b[1;32m----> 1\u001b[1;33m \u001b[0mint2\u001b[0m \u001b[1;33m=\u001b[0m \u001b[0mint\u001b[0m\u001b[1;33m(\u001b[0m\u001b[0mcom1\u001b[0m\u001b[1;33m)\u001b[0m\u001b[1;33m\u001b[0m\u001b[1;33m\u001b[0m\u001b[0m\n\u001b[0m\u001b[0;32m      2\u001b[0m \u001b[0mprint\u001b[0m\u001b[1;33m(\u001b[0m\u001b[0mint2\u001b[0m\u001b[1;33m)\u001b[0m  \u001b[1;31m# can't convert complex to int\u001b[0m\u001b[1;33m\u001b[0m\u001b[1;33m\u001b[0m\u001b[0m\n",
      "\u001b[1;31mTypeError\u001b[0m: can't convert complex to int"
     ]
    }
   ],
   "source": [
    "int2 = int(com1)\n",
    "print(int2)  # can't convert complex to int"
   ]
  },
  {
   "cell_type": "code",
   "execution_count": 42,
   "id": "3394fbce",
   "metadata": {},
   "outputs": [
    {
     "name": "stdout",
     "output_type": "stream",
     "text": [
      "(5+0j)\n"
     ]
    }
   ],
   "source": [
    "complex1 = complex(num1) #num1 = 5 as a real part and 0j as imaginary part.\n",
    "print(complex1)"
   ]
  },
  {
   "cell_type": "markdown",
   "id": "c10958a7",
   "metadata": {},
   "source": [
    "STRINGS"
   ]
  },
  {
   "cell_type": "code",
   "execution_count": 43,
   "id": "81e13b67",
   "metadata": {},
   "outputs": [
    {
     "name": "stdout",
     "output_type": "stream",
     "text": [
      "Nature refers to the natural world, encompassing all \n",
      "living and non-living components of the Earth, \n",
      "including plants, animals, soil, water, air, \n",
      "and the physical landscape.\n"
     ]
    }
   ],
   "source": [
    "X = '''Nature refers to the natural world, encompassing all \n",
    "living and non-living components of the Earth, \n",
    "including plants, animals, soil, water, air, \n",
    "and the physical landscape.'''\n",
    "print(X)"
   ]
  },
  {
   "cell_type": "code",
   "execution_count": 44,
   "id": "21bee561",
   "metadata": {},
   "outputs": [
    {
     "name": "stdout",
     "output_type": "stream",
     "text": [
      "Nature refers to the natural world, encompassing all \n",
      "living and non-living components of the Earth, \n",
      "including plants, animals, soil, water, air, \n",
      "and the physical landscape.\n"
     ]
    }
   ],
   "source": [
    "Y = \"\"\"Nature refers to the natural world, encompassing all \n",
    "living and non-living components of the Earth, \n",
    "including plants, animals, soil, water, air, \n",
    "and the physical landscape.\"\"\"\n",
    "print(Y)"
   ]
  },
  {
   "cell_type": "code",
   "execution_count": 45,
   "id": "11fa3c8a",
   "metadata": {},
   "outputs": [
    {
     "name": "stdout",
     "output_type": "stream",
     "text": [
      "P\n",
      "r\n",
      "a\n",
      "t\n",
      "e\n",
      "e\n",
      "k\n"
     ]
    }
   ],
   "source": [
    "Z = 'Prateek'\n",
    "print(Z[0])\n",
    "print(Z[1])\n",
    "print(Z[2])\n",
    "print(Z[3])\n",
    "print(Z[4])\n",
    "print(Z[5])\n",
    "print(Z[6])"
   ]
  },
  {
   "cell_type": "code",
   "execution_count": 46,
   "id": "f1307f50",
   "metadata": {},
   "outputs": [
    {
     "name": "stdout",
     "output_type": "stream",
     "text": [
      "7\n"
     ]
    }
   ],
   "source": [
    "print(len(Z))"
   ]
  },
  {
   "cell_type": "code",
   "execution_count": 47,
   "id": "d0b61e00",
   "metadata": {},
   "outputs": [
    {
     "name": "stdout",
     "output_type": "stream",
     "text": [
      "175\n",
      "175\n"
     ]
    }
   ],
   "source": [
    "print(len(X))\n",
    "print(len(Y))"
   ]
  },
  {
   "cell_type": "code",
   "execution_count": null,
   "id": "d3310865",
   "metadata": {},
   "outputs": [],
   "source": []
  }
 ],
 "metadata": {
  "kernelspec": {
   "display_name": "Python 3",
   "language": "python",
   "name": "python3"
  },
  "language_info": {
   "codemirror_mode": {
    "name": "ipython",
    "version": 3
   },
   "file_extension": ".py",
   "mimetype": "text/x-python",
   "name": "python",
   "nbconvert_exporter": "python",
   "pygments_lexer": "ipython3",
   "version": "3.8.8"
  }
 },
 "nbformat": 4,
 "nbformat_minor": 5
}
