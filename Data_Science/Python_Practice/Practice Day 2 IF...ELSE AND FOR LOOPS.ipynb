{
 "cells": [
  {
   "cell_type": "markdown",
   "id": "1ba1372c",
   "metadata": {},
   "source": [
    "IF...ELSE AND FOR LOOPS"
   ]
  },
  {
   "cell_type": "code",
   "execution_count": 1,
   "id": "2296641e",
   "metadata": {},
   "outputs": [],
   "source": [
    "x = 10\n",
    "y = 20\n",
    "z = 10"
   ]
  },
  {
   "cell_type": "code",
   "execution_count": 2,
   "id": "c4a219d6",
   "metadata": {},
   "outputs": [
    {
     "name": "stdout",
     "output_type": "stream",
     "text": [
      "Not equal\n"
     ]
    }
   ],
   "source": [
    "if(x!=y):\n",
    "    print(\"Not equal\")"
   ]
  },
  {
   "cell_type": "code",
   "execution_count": 3,
   "id": "d85e9202",
   "metadata": {},
   "outputs": [
    {
     "name": "stdout",
     "output_type": "stream",
     "text": [
      "Equal\n"
     ]
    }
   ],
   "source": [
    "if(x == z):\n",
    "    print(\"Equal\")"
   ]
  },
  {
   "cell_type": "code",
   "execution_count": 7,
   "id": "f91db42a",
   "metadata": {},
   "outputs": [
    {
     "name": "stdout",
     "output_type": "stream",
     "text": [
      "x is greater then y\n",
      "xyz\n"
     ]
    }
   ],
   "source": [
    "if not x>y:\n",
    "    print('x is greater then y')\n",
    "\n",
    "print('xyz')"
   ]
  },
  {
   "cell_type": "code",
   "execution_count": 8,
   "id": "64a01b0c",
   "metadata": {},
   "outputs": [
    {
     "name": "stdout",
     "output_type": "stream",
     "text": [
      "y is greater then x\n"
     ]
    }
   ],
   "source": [
    "if y > x:\n",
    " print('y is greater then x') "
   ]
  },
  {
   "cell_type": "code",
   "execution_count": 9,
   "id": "6bf4e358",
   "metadata": {},
   "outputs": [
    {
     "name": "stdout",
     "output_type": "stream",
     "text": [
      "2 conditions\n"
     ]
    }
   ],
   "source": [
    "if x <= y and x<=z :\n",
    " print('2 conditions')"
   ]
  },
  {
   "cell_type": "code",
   "execution_count": 10,
   "id": "7ec42464",
   "metadata": {},
   "outputs": [
    {
     "name": "stdout",
     "output_type": "stream",
     "text": [
      "2 conditions\n"
     ]
    }
   ],
   "source": [
    "if y >= x and x<=z :\n",
    " print('2 conditions')"
   ]
  },
  {
   "cell_type": "code",
   "execution_count": 11,
   "id": "1e517e95",
   "metadata": {},
   "outputs": [
    {
     "name": "stdout",
     "output_type": "stream",
     "text": [
      "2 conditions with or\n"
     ]
    }
   ],
   "source": [
    "if y <= x or x==z :\n",
    " print('2 conditions with or')"
   ]
  },
  {
   "cell_type": "code",
   "execution_count": 14,
   "id": "daa26631",
   "metadata": {},
   "outputs": [
    {
     "name": "stdout",
     "output_type": "stream",
     "text": [
      "not part\n",
      "not part\n"
     ]
    }
   ],
   "source": [
    "if not x == y :\n",
    "       print('not part')\n",
    "\n",
    "print('not part')        "
   ]
  },
  {
   "cell_type": "code",
   "execution_count": 15,
   "id": "ef10311b",
   "metadata": {},
   "outputs": [
    {
     "name": "stdout",
     "output_type": "stream",
     "text": [
      "equal\n"
     ]
    }
   ],
   "source": [
    "if x == z : print(\"equal\")"
   ]
  },
  {
   "cell_type": "code",
   "execution_count": 16,
   "id": "29163fb2",
   "metadata": {},
   "outputs": [
    {
     "name": "stdout",
     "output_type": "stream",
     "text": [
      "equal\n"
     ]
    }
   ],
   "source": [
    "if x == z :\n",
    " print('equal')\n",
    "elif x!=y :\n",
    " print('not equal')"
   ]
  },
  {
   "cell_type": "code",
   "execution_count": 17,
   "id": "18f93962",
   "metadata": {},
   "outputs": [
    {
     "name": "stdout",
     "output_type": "stream",
     "text": [
      "not equal\n"
     ]
    }
   ],
   "source": [
    "if x != z :\n",
    " print('equal')\n",
    "elif x!=y :\n",
    " print('not equal')"
   ]
  },
  {
   "cell_type": "code",
   "execution_count": 18,
   "id": "5bf6c240",
   "metadata": {},
   "outputs": [
    {
     "name": "stdout",
     "output_type": "stream",
     "text": [
      "else part\n"
     ]
    }
   ],
   "source": [
    "if x != z :\n",
    " print('equal')\n",
    "elif x==y :\n",
    " print('not equal')\n",
    "else :\n",
    " print('else part')"
   ]
  },
  {
   "cell_type": "code",
   "execution_count": 19,
   "id": "c1213d44",
   "metadata": {},
   "outputs": [
    {
     "name": "stdout",
     "output_type": "stream",
     "text": [
      "else part\n"
     ]
    }
   ],
   "source": [
    "if x != z :\n",
    " print('equal')\n",
    "else :\n",
    " print('else part')"
   ]
  },
  {
   "cell_type": "code",
   "execution_count": 20,
   "id": "eda85980",
   "metadata": {},
   "outputs": [
    {
     "name": "stdout",
     "output_type": "stream",
     "text": [
      "not equal\n",
      "else part\n"
     ]
    }
   ],
   "source": [
    "if x != y :\n",
    " print('not equal')\n",
    " if x < y :\n",
    "  print('else part')"
   ]
  },
  {
   "cell_type": "markdown",
   "id": "dd74e1ed",
   "metadata": {},
   "source": [
    "x = 10\n",
    "y = 20\n",
    "z = 10"
   ]
  },
  {
   "cell_type": "code",
   "execution_count": 26,
   "id": "3ac5d759",
   "metadata": {},
   "outputs": [
    {
     "name": "stdout",
     "output_type": "stream",
     "text": [
      "if part\n"
     ]
    }
   ],
   "source": [
    "print(\"if part\") if y > x else print(\"else part\")"
   ]
  },
  {
   "cell_type": "code",
   "execution_count": 25,
   "id": "0f85e6a6",
   "metadata": {},
   "outputs": [
    {
     "name": "stdout",
     "output_type": "stream",
     "text": [
      "else part\n"
     ]
    }
   ],
   "source": [
    "print(\"if part\") if x > y else print(\"else part\")"
   ]
  },
  {
   "cell_type": "markdown",
   "id": "3e0c34a9",
   "metadata": {},
   "source": [
    "FOR LOOPS"
   ]
  },
  {
   "cell_type": "code",
   "execution_count": 27,
   "id": "cc31a524",
   "metadata": {},
   "outputs": [],
   "source": [
    "set1 = [1,2,3,4,5,6,75,8,19,10] #it's a list"
   ]
  },
  {
   "cell_type": "code",
   "execution_count": 29,
   "id": "5170b0d2",
   "metadata": {},
   "outputs": [
    {
     "name": "stdout",
     "output_type": "stream",
     "text": [
      "1\n",
      "2\n",
      "3\n",
      "4\n",
      "5\n",
      "6\n",
      "75\n",
      "8\n",
      "19\n",
      "10\n"
     ]
    }
   ],
   "source": [
    "for i in set1:\n",
    "    print(i)"
   ]
  },
  {
   "cell_type": "code",
   "execution_count": 30,
   "id": "a0150eee",
   "metadata": {},
   "outputs": [
    {
     "name": "stdout",
     "output_type": "stream",
     "text": [
      "1\n",
      "2\n",
      "3\n",
      "4\n"
     ]
    }
   ],
   "source": [
    "for i in set1:\n",
    "    print(i)\n",
    "    if i == 4:\n",
    "        break\n",
    "    "
   ]
  },
  {
   "cell_type": "markdown",
   "id": "5312fdb6",
   "metadata": {},
   "source": [
    "\n"
   ]
  },
  {
   "cell_type": "code",
   "execution_count": 63,
   "id": "42ae606a",
   "metadata": {},
   "outputs": [
    {
     "name": "stdout",
     "output_type": "stream",
     "text": [
      "1\n",
      "2\n",
      "3\n"
     ]
    }
   ],
   "source": [
    "for i in set1 : #/\n",
    "    if i == 4 :\n",
    "        break\n",
    "    print(i)"
   ]
  },
  {
   "cell_type": "code",
   "execution_count": 64,
   "id": "32e2e6d2",
   "metadata": {},
   "outputs": [
    {
     "name": "stdout",
     "output_type": "stream",
     "text": [
      "1\n",
      "2\n",
      "3\n",
      "4\n",
      "5\n",
      "6\n",
      "75\n",
      "8\n",
      "19\n",
      "10\n"
     ]
    }
   ],
   "source": [
    "for i in set1 :\n",
    "    print(i)\n",
    "    if i == 4 :\n",
    "        continue"
   ]
  },
  {
   "cell_type": "code",
   "execution_count": 65,
   "id": "e89db436",
   "metadata": {},
   "outputs": [
    {
     "name": "stdout",
     "output_type": "stream",
     "text": [
      "1\n",
      "2\n",
      "3\n",
      "5\n",
      "6\n",
      "75\n",
      "8\n",
      "19\n",
      "10\n"
     ]
    }
   ],
   "source": [
    "for i in set1 : #/\n",
    "    if i == 4 :\n",
    "        continue\n",
    "    print(i)"
   ]
  },
  {
   "cell_type": "code",
   "execution_count": 66,
   "id": "2f2cbf40",
   "metadata": {},
   "outputs": [
    {
     "name": "stdout",
     "output_type": "stream",
     "text": [
      "p\n",
      "r\n",
      "a\n",
      "t\n",
      "i\n",
      "k\n"
     ]
    }
   ],
   "source": [
    "for i in 'pratik': \n",
    "    print(i)"
   ]
  },
  {
   "cell_type": "code",
   "execution_count": 67,
   "id": "ef8253bc",
   "metadata": {},
   "outputs": [
    {
     "name": "stdout",
     "output_type": "stream",
     "text": [
      "5\n",
      "6\n",
      "7\n",
      "8\n",
      "9\n"
     ]
    }
   ],
   "source": [
    "for i in range(5,10): \n",
    "    print(i)"
   ]
  },
  {
   "cell_type": "code",
   "execution_count": 58,
   "id": "fe664573",
   "metadata": {},
   "outputs": [
    {
     "name": "stdout",
     "output_type": "stream",
     "text": [
      "1\n",
      "3\n",
      "5\n",
      "7\n",
      "9\n"
     ]
    }
   ],
   "source": [
    "for i in range(1,10,2):\n",
    "    print(i)"
   ]
  },
  {
   "cell_type": "code",
   "execution_count": 73,
   "id": "650aecf9",
   "metadata": {},
   "outputs": [
    {
     "name": "stdout",
     "output_type": "stream",
     "text": [
      "pratik\n",
      "Kohad\n",
      "5March\n",
      "B.TECH\n",
      "engineering\n"
     ]
    }
   ],
   "source": [
    "for i in range(1,10,2): \n",
    " if i == 1 :\n",
    "  print('pratik')\n",
    " elif i == 3 :\n",
    "  print('Kohad')\n",
    " elif i == 5 :\n",
    "  print('5March')\n",
    " elif i == 7 :\n",
    "  print('B.TECH')\n",
    " elif i == 9 :\n",
    "  print('engineering')"
   ]
  },
  {
   "cell_type": "code",
   "execution_count": 71,
   "id": "c85f2cdb",
   "metadata": {},
   "outputs": [
    {
     "name": "stdout",
     "output_type": "stream",
     "text": [
      "pratik\n",
      "Kohad\n",
      "5March\n",
      "B.TECH\n",
      "engineering\n",
      "last else part\n"
     ]
    }
   ],
   "source": [
    "for i in range(1,10,2): \n",
    " if i == 1 :\n",
    "  print('pratik')\n",
    " elif i == 3 :\n",
    "  print('Kohad')\n",
    " elif i == 5 :\n",
    "  print('5March')\n",
    " elif i == 7 :\n",
    "  print('B.TECH')\n",
    " elif i == 9 :\n",
    "  print('engineering')\n",
    "else :\n",
    "    print('last else part')"
   ]
  },
  {
   "cell_type": "code",
   "execution_count": 50,
   "id": "4bc827dd",
   "metadata": {},
   "outputs": [
    {
     "name": "stdout",
     "output_type": "stream",
     "text": [
      "Pratik\n"
     ]
    }
   ],
   "source": [
    "for i in range(1,10,2): \n",
    " if i == 1 :\n",
    "  print('Pratik')\n",
    " elif i == 3 :\n",
    "  break\n",
    " elif i == 5 :\n",
    "  print('5')\n",
    " elif i == 7 :\n",
    "  print('BTECH')\n",
    " elif i == 9 :\n",
    "  print('engineering')\n",
    "else :\n",
    "    print('last else part')"
   ]
  },
  {
   "cell_type": "code",
   "execution_count": 61,
   "id": "afa5a95a",
   "metadata": {},
   "outputs": [
    {
     "name": "stdout",
     "output_type": "stream",
     "text": [
      "Pratik\n",
      "last else part\n"
     ]
    }
   ],
   "source": [
    "for i in range(0,11,2): \n",
    " if i == 10 :\n",
    "  print('Pratik')\n",
    " elif i == 30 :\n",
    "  print('Kohad')\n",
    " elif i == 50 :\n",
    "  print('5')\n",
    " elif i == 70 :\n",
    "  print('minutes')\n",
    " elif i == 90 :\n",
    "  print('engineering')\n",
    "else :\n",
    "  print('last else part')"
   ]
  },
  {
   "cell_type": "code",
   "execution_count": 62,
   "id": "8c16e957",
   "metadata": {},
   "outputs": [
    {
     "name": "stdout",
     "output_type": "stream",
     "text": [
      "last else part\n"
     ]
    }
   ],
   "source": [
    "for i in range(1,10,2): \n",
    " if i == 10 :\n",
    "  print('Pratik')\n",
    " elif i == 30 :\n",
    "  print('Kohad')\n",
    " elif i == 50 :\n",
    "  print('5')\n",
    " elif i == 70 :\n",
    "  print('minutes')\n",
    " elif i == 90 :\n",
    "  print('engineering')\n",
    "else :\n",
    "  print('last else part')"
   ]
  },
  {
   "cell_type": "code",
   "execution_count": 74,
   "id": "d10a4054",
   "metadata": {},
   "outputs": [
    {
     "name": "stdout",
     "output_type": "stream",
     "text": [
      "0\n",
      "equal\n"
     ]
    }
   ],
   "source": [
    "for i in range(10): \n",
    " print(i)\n",
    " if 5 != 6 :\n",
    "  print('equal')\n",
    "  if 5 < 6 :\n",
    "   break"
   ]
  },
  {
   "cell_type": "code",
   "execution_count": 75,
   "id": "6f14a0a8",
   "metadata": {},
   "outputs": [
    {
     "name": "stdout",
     "output_type": "stream",
     "text": [
      "p\n",
      "k\n",
      "o\n",
      "h\n",
      "a\n",
      "d\n",
      "r\n",
      "k\n",
      "o\n",
      "h\n",
      "a\n",
      "d\n",
      "a\n",
      "k\n",
      "o\n",
      "h\n",
      "a\n",
      "d\n",
      "t\n",
      "k\n",
      "o\n",
      "h\n",
      "a\n",
      "d\n",
      "i\n",
      "k\n",
      "o\n",
      "h\n",
      "a\n",
      "d\n",
      "k\n",
      "k\n",
      "o\n",
      "h\n",
      "a\n",
      "d\n"
     ]
    }
   ],
   "source": [
    "for i in 'pratik': \n",
    " print(i)\n",
    " for j in 'kohad':\n",
    "    print(j)"
   ]
  },
  {
   "cell_type": "code",
   "execution_count": 76,
   "id": "a7dad320",
   "metadata": {},
   "outputs": [
    {
     "name": "stdout",
     "output_type": "stream",
     "text": [
      "1\n",
      "K\n",
      "o\n",
      "h\n",
      "a\n",
      "d\n",
      "2\n",
      "K\n",
      "o\n",
      "h\n",
      "a\n",
      "d\n",
      "3\n",
      "K\n",
      "o\n",
      "h\n",
      "a\n",
      "d\n",
      "4\n",
      "K\n",
      "o\n",
      "h\n",
      "a\n",
      "d\n"
     ]
    }
   ],
   "source": [
    "for i in range(1,5): \n",
    " print(i)\n",
    " for j in 'Kohad':\n",
    "    print(j)"
   ]
  },
  {
   "cell_type": "markdown",
   "id": "d42e491e",
   "metadata": {},
   "source": [
    "WHILE LOOP"
   ]
  },
  {
   "cell_type": "code",
   "execution_count": 77,
   "id": "a1143999",
   "metadata": {},
   "outputs": [
    {
     "name": "stdout",
     "output_type": "stream",
     "text": [
      "1\n",
      "2\n",
      "3\n",
      "4\n",
      "5\n",
      "6\n",
      "7\n",
      "8\n",
      "9\n"
     ]
    }
   ],
   "source": [
    "X = 1\n",
    "while X < 10:\n",
    "    print(X)\n",
    "    X += 1"
   ]
  },
  {
   "cell_type": "code",
   "execution_count": 78,
   "id": "21bff96c",
   "metadata": {},
   "outputs": [
    {
     "name": "stdout",
     "output_type": "stream",
     "text": [
      "1\n",
      "3\n",
      "5\n",
      "7\n",
      "9\n"
     ]
    }
   ],
   "source": [
    "X = 1\n",
    "while X < 10:\n",
    "    print(X)\n",
    "    X += 2"
   ]
  },
  {
   "cell_type": "code",
   "execution_count": 79,
   "id": "d479fa78",
   "metadata": {},
   "outputs": [
    {
     "name": "stdout",
     "output_type": "stream",
     "text": [
      "1\n",
      "4\n",
      "7\n"
     ]
    }
   ],
   "source": [
    "X = 1\n",
    "while X < 10:\n",
    "    print(X)\n",
    "    X += 3"
   ]
  },
  {
   "cell_type": "code",
   "execution_count": 82,
   "id": "233f8174",
   "metadata": {},
   "outputs": [
    {
     "name": "stdout",
     "output_type": "stream",
     "text": [
      "1\n",
      "2\n",
      "3\n",
      "4\n",
      "5\n"
     ]
    }
   ],
   "source": [
    "x = 1 \n",
    "while x < 10:\n",
    "    print(x)\n",
    "    if x == 5:\n",
    "        break \n",
    "    x += 1"
   ]
  },
  {
   "cell_type": "code",
   "execution_count": 1,
   "id": "bd9d0d1f",
   "metadata": {},
   "outputs": [
    {
     "name": "stdout",
     "output_type": "stream",
     "text": [
      "2\n",
      "3\n",
      "4\n",
      "6\n",
      "7\n",
      "8\n",
      "9\n",
      "10\n"
     ]
    }
   ],
   "source": [
    "x = 1\n",
    "while x < 10:\n",
    "  x += 1\n",
    "  if x == 5:\n",
    "    continue\n",
    "  print(x)\n",
    "        "
   ]
  },
  {
   "cell_type": "code",
   "execution_count": 2,
   "id": "a3e83b38",
   "metadata": {},
   "outputs": [
    {
     "name": "stdout",
     "output_type": "stream",
     "text": [
      "2\n",
      "3\n",
      "4\n",
      "5\n",
      "6\n",
      "7\n",
      "8\n",
      "9\n",
      "10\n"
     ]
    }
   ],
   "source": [
    "x = 1\n",
    "while x < 10:\n",
    "  x += 1\n",
    "  print(x)\n",
    "  if x == 5:\n",
    "    continue"
   ]
  },
  {
   "cell_type": "code",
   "execution_count": 3,
   "id": "2bfe3e96",
   "metadata": {},
   "outputs": [
    {
     "name": "stdout",
     "output_type": "stream",
     "text": [
      "1\n",
      "2\n",
      "3\n",
      "4\n",
      "5\n",
      "6\n",
      "7\n",
      "8\n",
      "9\n"
     ]
    }
   ],
   "source": [
    "x = 1\n",
    "while x in range(10):\n",
    "  print(x)\n",
    "  x += 1"
   ]
  },
  {
   "cell_type": "code",
   "execution_count": 4,
   "id": "9689765a",
   "metadata": {},
   "outputs": [
    {
     "name": "stdout",
     "output_type": "stream",
     "text": [
      "x-> 1 y-> 1 x + y -> 2\n",
      "x-> 1 y-> 2 x + y -> 3\n",
      "x-> 1 y-> 3 x + y -> 4\n",
      "x-> 1 y-> 4 x + y -> 5\n",
      "\n",
      "\n",
      "x-> 2 y-> 1 x + y -> 3\n",
      "x-> 2 y-> 2 x + y -> 4\n",
      "x-> 2 y-> 3 x + y -> 5\n",
      "x-> 2 y-> 4 x + y -> 6\n",
      "\n",
      "\n",
      "x-> 3 y-> 1 x + y -> 4\n",
      "x-> 3 y-> 2 x + y -> 5\n",
      "x-> 3 y-> 3 x + y -> 6\n",
      "x-> 3 y-> 4 x + y -> 7\n",
      "\n",
      "\n",
      "x-> 4 y-> 1 x + y -> 5\n",
      "x-> 4 y-> 2 x + y -> 6\n",
      "x-> 4 y-> 3 x + y -> 7\n",
      "x-> 4 y-> 4 x + y -> 8\n",
      "\n",
      "\n"
     ]
    }
   ],
   "source": [
    "x = 1\n",
    "while x < 5 :\n",
    "    y = 1\n",
    "    while  y < 5 :\n",
    "        print('x->',x,'y->',y,'x + y ->',x+y)\n",
    "        y += 1\n",
    "    print(\"\\n\")\n",
    "    x += 1"
   ]
  },
  {
   "cell_type": "code",
   "execution_count": null,
   "id": "a4f5ea93",
   "metadata": {},
   "outputs": [],
   "source": []
  }
 ],
 "metadata": {
  "kernelspec": {
   "display_name": "Python 3",
   "language": "python",
   "name": "python3"
  },
  "language_info": {
   "codemirror_mode": {
    "name": "ipython",
    "version": 3
   },
   "file_extension": ".py",
   "mimetype": "text/x-python",
   "name": "python",
   "nbconvert_exporter": "python",
   "pygments_lexer": "ipython3",
   "version": "3.8.8"
  }
 },
 "nbformat": 4,
 "nbformat_minor": 5
}
