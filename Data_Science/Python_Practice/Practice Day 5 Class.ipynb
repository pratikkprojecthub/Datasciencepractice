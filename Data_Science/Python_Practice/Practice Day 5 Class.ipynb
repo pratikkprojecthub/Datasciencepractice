{
 "cells": [
  {
   "cell_type": "markdown",
   "id": "bb207317",
   "metadata": {},
   "source": [
    "# Class"
   ]
  },
  {
   "cell_type": "code",
   "execution_count": 1,
   "id": "7934848d",
   "metadata": {},
   "outputs": [],
   "source": [
    "class class1:\n",
    "    v1 = \"Pratik\"\n",
    "    v2 = 5"
   ]
  },
  {
   "cell_type": "code",
   "execution_count": 2,
   "id": "ea40b0ef",
   "metadata": {},
   "outputs": [
    {
     "name": "stdout",
     "output_type": "stream",
     "text": [
      "Pratik\n",
      "5\n"
     ]
    }
   ],
   "source": [
    "obj1 = class1()\n",
    "print(obj1.v1)\n",
    "print(obj1.v2)"
   ]
  },
  {
   "cell_type": "code",
   "execution_count": 4,
   "id": "fd5ad93e",
   "metadata": {},
   "outputs": [
    {
     "name": "stdout",
     "output_type": "stream",
     "text": [
      "Pratik\n",
      "Rakesh\n"
     ]
    }
   ],
   "source": [
    "obj2 = class1()\n",
    "print(obj2.v1)\n",
    "obj2.v1 = \"Rakesh\"\n",
    "print(obj2.v1)"
   ]
  },
  {
   "cell_type": "code",
   "execution_count": 6,
   "id": "e8ebdb46",
   "metadata": {},
   "outputs": [],
   "source": [
    "class class2:\n",
    "    name = \"Pratik\"\n",
    "    rol_no = 5\n",
    "    \n",
    "    def xyz(self):\n",
    "        print(\"name-->\", self.name)"
   ]
  },
  {
   "cell_type": "code",
   "execution_count": 11,
   "id": "41e8423c",
   "metadata": {},
   "outputs": [
    {
     "name": "stdout",
     "output_type": "stream",
     "text": [
      "name--> Pratik\n",
      "name--> Rakesh\n"
     ]
    }
   ],
   "source": [
    "obj22 = class2()\n",
    "obj22.xyz()\n",
    "obj22.name = \"Rakesh\"\n",
    "obj22.xyz()"
   ]
  },
  {
   "cell_type": "code",
   "execution_count": 12,
   "id": "3eed298a",
   "metadata": {},
   "outputs": [],
   "source": [
    "class class3:\n",
    "    def __init__(self,name):\n",
    "        self.name = name\n",
    "        \n",
    "    rol_no = 5\n",
    "    \n",
    "    def xyz(self):\n",
    "        print(\"name-->\",self.name)"
   ]
  },
  {
   "cell_type": "code",
   "execution_count": 13,
   "id": "00a0eb85",
   "metadata": {},
   "outputs": [
    {
     "name": "stdout",
     "output_type": "stream",
     "text": [
      "Praju\n",
      "name--> Praju\n"
     ]
    }
   ],
   "source": [
    "obj222 = class3(\"Praju\")\n",
    "print(obj222.name)\n",
    "obj222.xyz()"
   ]
  },
  {
   "cell_type": "code",
   "execution_count": 14,
   "id": "dfdaf58d",
   "metadata": {},
   "outputs": [],
   "source": [
    "class class4:\n",
    "    def __init__(self,name):\n",
    "        self.name = name\n",
    "        \n",
    "    rol_no = 5\n",
    "    \n",
    "    def xyz(self):\n",
    "        print(\"name-->\",self.name)"
   ]
  },
  {
   "cell_type": "code",
   "execution_count": 15,
   "id": "3ea7fd5a",
   "metadata": {},
   "outputs": [
    {
     "name": "stdout",
     "output_type": "stream",
     "text": [
      "THE SHAWSHANK REDEMPTION\n",
      "name--> THE SHAWSHANK REDEMPTION\n"
     ]
    }
   ],
   "source": [
    "obj222 = class4(\"THE SHAWSHANK REDEMPTION\")\n",
    "print(obj222.name)\n",
    "obj222.xyz()"
   ]
  },
  {
   "cell_type": "code",
   "execution_count": null,
   "id": "ccc87e2f",
   "metadata": {},
   "outputs": [],
   "source": []
  },
  {
   "cell_type": "code",
   "execution_count": null,
   "id": "85a05626",
   "metadata": {},
   "outputs": [],
   "source": []
  }
 ],
 "metadata": {
  "kernelspec": {
   "display_name": "Python 3",
   "language": "python",
   "name": "python3"
  },
  "language_info": {
   "codemirror_mode": {
    "name": "ipython",
    "version": 3
   },
   "file_extension": ".py",
   "mimetype": "text/x-python",
   "name": "python",
   "nbconvert_exporter": "python",
   "pygments_lexer": "ipython3",
   "version": "3.8.8"
  }
 },
 "nbformat": 4,
 "nbformat_minor": 5
}
