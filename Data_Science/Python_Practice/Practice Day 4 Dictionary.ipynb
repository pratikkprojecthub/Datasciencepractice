{
 "cells": [
  {
   "cell_type": "markdown",
   "id": "fa4dfe59",
   "metadata": {},
   "source": [
    "# Dictionary"
   ]
  },
  {
   "cell_type": "code",
   "execution_count": 1,
   "id": "c18560e0",
   "metadata": {},
   "outputs": [],
   "source": [
    "dict1 = {\n",
    "  \"name\"  : \"Pratik\",\n",
    "  \"rollno\": 35,\n",
    "  \"PASS\"  : True\n",
    "}"
   ]
  },
  {
   "cell_type": "code",
   "execution_count": 2,
   "id": "43b2e93d",
   "metadata": {},
   "outputs": [
    {
     "data": {
      "text/plain": [
       "{'name': 'Pratik', 'rollno': 35, 'PASS': True}"
      ]
     },
     "execution_count": 2,
     "metadata": {},
     "output_type": "execute_result"
    }
   ],
   "source": [
    "dict1"
   ]
  },
  {
   "cell_type": "code",
   "execution_count": 3,
   "id": "d60c5dd0",
   "metadata": {},
   "outputs": [],
   "source": [
    "dict2 = {\n",
    "    \"name\" : 'xyz',\n",
    "    \"name\" : 'abc'\n",
    "}"
   ]
  },
  {
   "cell_type": "code",
   "execution_count": 4,
   "id": "619e9950",
   "metadata": {},
   "outputs": [
    {
     "data": {
      "text/plain": [
       "{'name': 'abc'}"
      ]
     },
     "execution_count": 4,
     "metadata": {},
     "output_type": "execute_result"
    }
   ],
   "source": [
    "dict2 # latest output "
   ]
  },
  {
   "cell_type": "code",
   "execution_count": 5,
   "id": "ecb6c271",
   "metadata": {},
   "outputs": [
    {
     "data": {
      "text/plain": [
       "'Pratik'"
      ]
     },
     "execution_count": 5,
     "metadata": {},
     "output_type": "execute_result"
    }
   ],
   "source": [
    "dict1['name']"
   ]
  },
  {
   "cell_type": "code",
   "execution_count": 6,
   "id": "3156c0fb",
   "metadata": {},
   "outputs": [],
   "source": [
    "dict3 = {\n",
    "    'sports_id'   : 1,\n",
    "    \"sports_name\" : 'cricket',\n",
    "    'score1'      : [20,40,70,2],\n",
    "    'score2'      : (1,2,3,4,5),\n",
    "    'score3'      : {100,120,30,140,150}\n",
    "}"
   ]
  },
  {
   "cell_type": "code",
   "execution_count": 7,
   "id": "f64d3d6e",
   "metadata": {},
   "outputs": [
    {
     "data": {
      "text/plain": [
       "{'sports_id': 1,\n",
       " 'sports_name': 'cricket',\n",
       " 'score1': [20, 40, 70, 2],\n",
       " 'score2': (1, 2, 3, 4, 5),\n",
       " 'score3': {30, 100, 120, 140, 150}}"
      ]
     },
     "execution_count": 7,
     "metadata": {},
     "output_type": "execute_result"
    }
   ],
   "source": [
    "dict3"
   ]
  },
  {
   "cell_type": "code",
   "execution_count": 8,
   "id": "5bb4007b",
   "metadata": {},
   "outputs": [
    {
     "data": {
      "text/plain": [
       "{'product_id': 1, 'product_name': 'xyz', 'product_price': 999}"
      ]
     },
     "execution_count": 8,
     "metadata": {},
     "output_type": "execute_result"
    }
   ],
   "source": [
    "dict4 = dict(product_id = 1, product_name = 'xyz', product_price = 999)\n",
    "dict4"
   ]
  },
  {
   "cell_type": "code",
   "execution_count": 9,
   "id": "babf1348",
   "metadata": {},
   "outputs": [
    {
     "data": {
      "text/plain": [
       "dict_keys(['sports_id', 'sports_name', 'score1', 'score2', 'score3'])"
      ]
     },
     "execution_count": 9,
     "metadata": {},
     "output_type": "execute_result"
    }
   ],
   "source": [
    "dict3.keys()"
   ]
  },
  {
   "cell_type": "code",
   "execution_count": 10,
   "id": "26a26d45",
   "metadata": {},
   "outputs": [],
   "source": [
    "dict3['win'] = True"
   ]
  },
  {
   "cell_type": "code",
   "execution_count": 11,
   "id": "61be8230",
   "metadata": {},
   "outputs": [
    {
     "data": {
      "text/plain": [
       "dict_keys(['sports_id', 'sports_name', 'score1', 'score2', 'score3', 'win'])"
      ]
     },
     "execution_count": 11,
     "metadata": {},
     "output_type": "execute_result"
    }
   ],
   "source": [
    "dict3.keys()"
   ]
  },
  {
   "cell_type": "code",
   "execution_count": 13,
   "id": "3e0a8a8d",
   "metadata": {},
   "outputs": [
    {
     "data": {
      "text/plain": [
       "dict_values([1, 'cricket', [20, 40, 70, 2], (1, 2, 3, 4, 5), {100, 140, 150, 120, 30}, True])"
      ]
     },
     "execution_count": 13,
     "metadata": {},
     "output_type": "execute_result"
    }
   ],
   "source": [
    "dict3.values()"
   ]
  },
  {
   "cell_type": "code",
   "execution_count": 14,
   "id": "8afba32b",
   "metadata": {},
   "outputs": [],
   "source": [
    "dict3['win'] = False"
   ]
  },
  {
   "cell_type": "code",
   "execution_count": 15,
   "id": "ec077b4c",
   "metadata": {},
   "outputs": [
    {
     "data": {
      "text/plain": [
       "dict_keys(['sports_id', 'sports_name', 'score1', 'score2', 'score3', 'win'])"
      ]
     },
     "execution_count": 15,
     "metadata": {},
     "output_type": "execute_result"
    }
   ],
   "source": [
    "dict3.keys()"
   ]
  },
  {
   "cell_type": "code",
   "execution_count": 16,
   "id": "d02e4b89",
   "metadata": {},
   "outputs": [
    {
     "data": {
      "text/plain": [
       "dict_values([1, 'cricket', [20, 40, 70, 2], (1, 2, 3, 4, 5), {100, 140, 150, 120, 30}, False])"
      ]
     },
     "execution_count": 16,
     "metadata": {},
     "output_type": "execute_result"
    }
   ],
   "source": [
    "dict3.values()"
   ]
  },
  {
   "cell_type": "code",
   "execution_count": 17,
   "id": "fac139ba",
   "metadata": {},
   "outputs": [
    {
     "data": {
      "text/plain": [
       "dict_items([('sports_id', 1), ('sports_name', 'cricket'), ('score1', [20, 40, 70, 2]), ('score2', (1, 2, 3, 4, 5)), ('score3', {100, 140, 150, 120, 30}), ('win', False)])"
      ]
     },
     "execution_count": 17,
     "metadata": {},
     "output_type": "execute_result"
    }
   ],
   "source": [
    "dict3.items()"
   ]
  },
  {
   "cell_type": "code",
   "execution_count": 21,
   "id": "28b9a323",
   "metadata": {},
   "outputs": [],
   "source": [
    "dict3.update({\"win\" : True})"
   ]
  },
  {
   "cell_type": "code",
   "execution_count": 22,
   "id": "b8bf34ae",
   "metadata": {},
   "outputs": [
    {
     "data": {
      "text/plain": [
       "dict_values([1, 'cricket', [20, 40, 70, 2], (1, 2, 3, 4, 5), {100, 140, 150, 120, 30}, True])"
      ]
     },
     "execution_count": 22,
     "metadata": {},
     "output_type": "execute_result"
    }
   ],
   "source": [
    "dict3.values()"
   ]
  },
  {
   "cell_type": "code",
   "execution_count": 23,
   "id": "ec7ab7e4",
   "metadata": {},
   "outputs": [
    {
     "data": {
      "text/plain": [
       "{'sports_id': 1,\n",
       " 'sports_name': 'cricket',\n",
       " 'score1': [20, 40, 70, 2],\n",
       " 'score2': (1, 2, 3, 4, 5),\n",
       " 'score3': {30, 100, 120, 140, 150},\n",
       " 'win': True}"
      ]
     },
     "execution_count": 23,
     "metadata": {},
     "output_type": "execute_result"
    }
   ],
   "source": [
    "dict4 = dict3.copy()\n",
    "dict4"
   ]
  },
  {
   "cell_type": "code",
   "execution_count": 24,
   "id": "b508adc7",
   "metadata": {},
   "outputs": [
    {
     "data": {
      "text/plain": [
       "{'sports_id': 1,\n",
       " 'sports_name': 'cricket',\n",
       " 'score1': [20, 40, 70, 2],\n",
       " 'score2': (1, 2, 3, 4, 5),\n",
       " 'score3': {30, 100, 120, 140, 150},\n",
       " 'win': True}"
      ]
     },
     "execution_count": 24,
     "metadata": {},
     "output_type": "execute_result"
    }
   ],
   "source": [
    "dict3"
   ]
  },
  {
   "cell_type": "code",
   "execution_count": 25,
   "id": "c5212ab6",
   "metadata": {},
   "outputs": [
    {
     "data": {
      "text/plain": [
       "True"
      ]
     },
     "execution_count": 25,
     "metadata": {},
     "output_type": "execute_result"
    }
   ],
   "source": [
    "dict3.pop('win')"
   ]
  },
  {
   "cell_type": "code",
   "execution_count": 26,
   "id": "c625500a",
   "metadata": {},
   "outputs": [
    {
     "data": {
      "text/plain": [
       "{'sports_id': 1,\n",
       " 'sports_name': 'cricket',\n",
       " 'score1': [20, 40, 70, 2],\n",
       " 'score2': (1, 2, 3, 4, 5),\n",
       " 'score3': {30, 100, 120, 140, 150}}"
      ]
     },
     "execution_count": 26,
     "metadata": {},
     "output_type": "execute_result"
    }
   ],
   "source": [
    "dict3"
   ]
  },
  {
   "cell_type": "code",
   "execution_count": 27,
   "id": "2d2f711a",
   "metadata": {},
   "outputs": [
    {
     "data": {
      "text/plain": [
       "('score3', {30, 100, 120, 140, 150})"
      ]
     },
     "execution_count": 27,
     "metadata": {},
     "output_type": "execute_result"
    }
   ],
   "source": [
    "dict3.popitem()"
   ]
  },
  {
   "cell_type": "code",
   "execution_count": 28,
   "id": "f242fc04",
   "metadata": {},
   "outputs": [
    {
     "data": {
      "text/plain": [
       "{'sports_id': 1,\n",
       " 'sports_name': 'cricket',\n",
       " 'score1': [20, 40, 70, 2],\n",
       " 'score2': (1, 2, 3, 4, 5)}"
      ]
     },
     "execution_count": 28,
     "metadata": {},
     "output_type": "execute_result"
    }
   ],
   "source": [
    "dict3"
   ]
  },
  {
   "cell_type": "code",
   "execution_count": 29,
   "id": "c4ad8846",
   "metadata": {},
   "outputs": [],
   "source": [
    "del dict3['score2']"
   ]
  },
  {
   "cell_type": "code",
   "execution_count": 30,
   "id": "9ac463cb",
   "metadata": {},
   "outputs": [
    {
     "data": {
      "text/plain": [
       "{'sports_id': 1, 'sports_name': 'cricket', 'score1': [20, 40, 70, 2]}"
      ]
     },
     "execution_count": 30,
     "metadata": {},
     "output_type": "execute_result"
    }
   ],
   "source": [
    "dict3"
   ]
  },
  {
   "cell_type": "code",
   "execution_count": 31,
   "id": "aaef79b4",
   "metadata": {},
   "outputs": [],
   "source": [
    "dict3.clear()"
   ]
  },
  {
   "cell_type": "code",
   "execution_count": 32,
   "id": "0fc77199",
   "metadata": {},
   "outputs": [
    {
     "data": {
      "text/plain": [
       "{}"
      ]
     },
     "execution_count": 32,
     "metadata": {},
     "output_type": "execute_result"
    }
   ],
   "source": [
    "dict3"
   ]
  },
  {
   "cell_type": "code",
   "execution_count": 33,
   "id": "a372bf65",
   "metadata": {},
   "outputs": [],
   "source": [
    "del dict3 # permanently delete"
   ]
  },
  {
   "cell_type": "code",
   "execution_count": 34,
   "id": "44410071",
   "metadata": {},
   "outputs": [
    {
     "ename": "NameError",
     "evalue": "name 'dict3' is not defined",
     "output_type": "error",
     "traceback": [
      "\u001b[1;31m---------------------------------------------------------------------------\u001b[0m",
      "\u001b[1;31mNameError\u001b[0m                                 Traceback (most recent call last)",
      "\u001b[1;32m<ipython-input-34-0887e61e33b0>\u001b[0m in \u001b[0;36m<module>\u001b[1;34m\u001b[0m\n\u001b[1;32m----> 1\u001b[1;33m \u001b[0mdict3\u001b[0m\u001b[1;33m\u001b[0m\u001b[1;33m\u001b[0m\u001b[0m\n\u001b[0m",
      "\u001b[1;31mNameError\u001b[0m: name 'dict3' is not defined"
     ]
    }
   ],
   "source": [
    "dict3"
   ]
  },
  {
   "cell_type": "code",
   "execution_count": null,
   "id": "c984a2c6",
   "metadata": {},
   "outputs": [],
   "source": []
  }
 ],
 "metadata": {
  "kernelspec": {
   "display_name": "Python 3",
   "language": "python",
   "name": "python3"
  },
  "language_info": {
   "codemirror_mode": {
    "name": "ipython",
    "version": 3
   },
   "file_extension": ".py",
   "mimetype": "text/x-python",
   "name": "python",
   "nbconvert_exporter": "python",
   "pygments_lexer": "ipython3",
   "version": "3.8.8"
  }
 },
 "nbformat": 4,
 "nbformat_minor": 5
}
