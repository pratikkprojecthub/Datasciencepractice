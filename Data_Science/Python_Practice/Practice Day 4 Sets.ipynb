{
 "cells": [
  {
   "cell_type": "markdown",
   "id": "f26e265b",
   "metadata": {},
   "source": [
    "# SETS"
   ]
  },
  {
   "cell_type": "code",
   "execution_count": 1,
   "id": "b2fe0171",
   "metadata": {},
   "outputs": [],
   "source": [
    "set1 = {10,20,30,40,50}"
   ]
  },
  {
   "cell_type": "code",
   "execution_count": 2,
   "id": "e24b39e0",
   "metadata": {},
   "outputs": [],
   "source": [
    "set2 = {'Pratik',\"Engg\",'dsa',\"course\"}"
   ]
  },
  {
   "cell_type": "code",
   "execution_count": 3,
   "id": "5f6efd91",
   "metadata": {},
   "outputs": [],
   "source": [
    "set3 = {True, False,False, True}"
   ]
  },
  {
   "cell_type": "code",
   "execution_count": 6,
   "id": "8e7e5020",
   "metadata": {},
   "outputs": [
    {
     "name": "stdout",
     "output_type": "stream",
     "text": [
      "<class 'set'>\n",
      "<class 'set'>\n",
      "<class 'set'>\n"
     ]
    }
   ],
   "source": [
    "print(type(set1))\n",
    "print(type(set2))\n",
    "print(type(set3))"
   ]
  },
  {
   "cell_type": "code",
   "execution_count": 7,
   "id": "a972c151",
   "metadata": {},
   "outputs": [],
   "source": [
    "set4 = set((2, True, 'yes', \"no\"))"
   ]
  },
  {
   "cell_type": "code",
   "execution_count": 8,
   "id": "b2a46081",
   "metadata": {},
   "outputs": [
    {
     "name": "stdout",
     "output_type": "stream",
     "text": [
      "<class 'set'>\n"
     ]
    }
   ],
   "source": [
    "print(type(set4))"
   ]
  },
  {
   "cell_type": "code",
   "execution_count": 10,
   "id": "d78e341b",
   "metadata": {},
   "outputs": [
    {
     "data": {
      "text/plain": [
       "{2, True, 'no', 'yes'}"
      ]
     },
     "execution_count": 10,
     "metadata": {},
     "output_type": "execute_result"
    }
   ],
   "source": [
    "set4 # sets are unordered so we dont have indexing in it"
   ]
  },
  {
   "cell_type": "code",
   "execution_count": 11,
   "id": "b83ca0c1",
   "metadata": {},
   "outputs": [
    {
     "name": "stdout",
     "output_type": "stream",
     "text": [
      "Engg\n",
      "Pratik\n",
      "dsa\n",
      "course\n"
     ]
    }
   ],
   "source": [
    "for i in set2:\n",
    "    print(i)"
   ]
  },
  {
   "cell_type": "code",
   "execution_count": 13,
   "id": "a97ba43b",
   "metadata": {},
   "outputs": [
    {
     "data": {
      "text/plain": [
       "{1, 2, 3, 4, 5}"
      ]
     },
     "execution_count": 13,
     "metadata": {},
     "output_type": "execute_result"
    }
   ],
   "source": [
    "sett = {1,1,2,2,3,3,4,4,5,5} # no duplicates allowed\n",
    "sett"
   ]
  },
  {
   "cell_type": "code",
   "execution_count": 14,
   "id": "5807b84c",
   "metadata": {},
   "outputs": [
    {
     "name": "stdout",
     "output_type": "stream",
     "text": [
      "True\n"
     ]
    }
   ],
   "source": [
    "print('yes' in set4)"
   ]
  },
  {
   "cell_type": "code",
   "execution_count": 15,
   "id": "02c6a0e9",
   "metadata": {},
   "outputs": [
    {
     "name": "stdout",
     "output_type": "stream",
     "text": [
      "False\n"
     ]
    }
   ],
   "source": [
    "print(5 in set4)"
   ]
  },
  {
   "cell_type": "code",
   "execution_count": 16,
   "id": "0551f7fd",
   "metadata": {},
   "outputs": [],
   "source": [
    "set4.add(False)"
   ]
  },
  {
   "cell_type": "code",
   "execution_count": 17,
   "id": "ad838028",
   "metadata": {},
   "outputs": [
    {
     "data": {
      "text/plain": [
       "{2, False, True, 'no', 'yes'}"
      ]
     },
     "execution_count": 17,
     "metadata": {},
     "output_type": "execute_result"
    }
   ],
   "source": [
    "set4"
   ]
  },
  {
   "cell_type": "code",
   "execution_count": 18,
   "id": "d32f6b00",
   "metadata": {},
   "outputs": [],
   "source": [
    "set4.add(50)"
   ]
  },
  {
   "cell_type": "code",
   "execution_count": 21,
   "id": "a9d87cb5",
   "metadata": {},
   "outputs": [
    {
     "data": {
      "text/plain": [
       "{2, 50, False, True, 'i have', 'no', 'yes'}"
      ]
     },
     "execution_count": 21,
     "metadata": {},
     "output_type": "execute_result"
    }
   ],
   "source": [
    "set4"
   ]
  },
  {
   "cell_type": "code",
   "execution_count": 22,
   "id": "33417455",
   "metadata": {},
   "outputs": [],
   "source": [
    "set4.add('i have')"
   ]
  },
  {
   "cell_type": "code",
   "execution_count": 23,
   "id": "79f208c2",
   "metadata": {},
   "outputs": [
    {
     "data": {
      "text/plain": [
       "{2, 50, False, True, 'i have', 'no', 'yes'}"
      ]
     },
     "execution_count": 23,
     "metadata": {},
     "output_type": "execute_result"
    }
   ],
   "source": [
    "set4"
   ]
  },
  {
   "cell_type": "code",
   "execution_count": 24,
   "id": "2255a008",
   "metadata": {},
   "outputs": [
    {
     "data": {
      "text/plain": [
       "{2, 50, False, True, 'abc', 'i have', 'no', 'yes'}"
      ]
     },
     "execution_count": 24,
     "metadata": {},
     "output_type": "execute_result"
    }
   ],
   "source": [
    "set4.add('abc')\n",
    "set4"
   ]
  },
  {
   "cell_type": "code",
   "execution_count": 25,
   "id": "c7cd89f7",
   "metadata": {},
   "outputs": [
    {
     "data": {
      "text/plain": [
       "{2, False, True, 'abc', 'i have', 'no', 'yes'}"
      ]
     },
     "execution_count": 25,
     "metadata": {},
     "output_type": "execute_result"
    }
   ],
   "source": [
    "set4.remove(50)\n",
    "set4"
   ]
  },
  {
   "cell_type": "code",
   "execution_count": 26,
   "id": "f546c94a",
   "metadata": {},
   "outputs": [
    {
     "ename": "KeyError",
     "evalue": "50",
     "output_type": "error",
     "traceback": [
      "\u001b[1;31m---------------------------------------------------------------------------\u001b[0m",
      "\u001b[1;31mKeyError\u001b[0m                                  Traceback (most recent call last)",
      "\u001b[1;32m<ipython-input-26-33d5c147bd9e>\u001b[0m in \u001b[0;36m<module>\u001b[1;34m\u001b[0m\n\u001b[1;32m----> 1\u001b[1;33m \u001b[0mset4\u001b[0m\u001b[1;33m.\u001b[0m\u001b[0mremove\u001b[0m\u001b[1;33m(\u001b[0m\u001b[1;36m50\u001b[0m\u001b[1;33m)\u001b[0m\u001b[1;33m\u001b[0m\u001b[1;33m\u001b[0m\u001b[0m\n\u001b[0m",
      "\u001b[1;31mKeyError\u001b[0m: 50"
     ]
    }
   ],
   "source": [
    "set4.remove(50)"
   ]
  },
  {
   "cell_type": "code",
   "execution_count": 28,
   "id": "785a2132",
   "metadata": {},
   "outputs": [],
   "source": [
    "set4.discard(50) # remove function gives error when element is not present \n",
    "# in set but discard does not give error when element is not present in set"
   ]
  },
  {
   "cell_type": "code",
   "execution_count": 29,
   "id": "2173a27a",
   "metadata": {},
   "outputs": [
    {
     "data": {
      "text/plain": [
       "{2, False, True, 'abc', 'i have', 'no', 'yes'}"
      ]
     },
     "execution_count": 29,
     "metadata": {},
     "output_type": "execute_result"
    }
   ],
   "source": [
    "set4"
   ]
  },
  {
   "cell_type": "code",
   "execution_count": 30,
   "id": "d8517323",
   "metadata": {},
   "outputs": [
    {
     "data": {
      "text/plain": [
       "False"
      ]
     },
     "execution_count": 30,
     "metadata": {},
     "output_type": "execute_result"
    }
   ],
   "source": [
    "a = set4.pop()\n",
    "a"
   ]
  },
  {
   "cell_type": "code",
   "execution_count": 31,
   "id": "966ab0bc",
   "metadata": {},
   "outputs": [
    {
     "data": {
      "text/plain": [
       "{2, True, 'abc', 'i have', 'no', 'yes'}"
      ]
     },
     "execution_count": 31,
     "metadata": {},
     "output_type": "execute_result"
    }
   ],
   "source": [
    "set4"
   ]
  },
  {
   "cell_type": "code",
   "execution_count": 32,
   "id": "a0f7dba7",
   "metadata": {},
   "outputs": [
    {
     "data": {
      "text/plain": [
       "{10, 2, 20, 30, 40, 50, True, 'abc', 'i have', 'no', 'yes'}"
      ]
     },
     "execution_count": 32,
     "metadata": {},
     "output_type": "execute_result"
    }
   ],
   "source": [
    "set5 = set4.union(set1)\n",
    "set5"
   ]
  },
  {
   "cell_type": "code",
   "execution_count": 33,
   "id": "d581f261",
   "metadata": {},
   "outputs": [
    {
     "data": {
      "text/plain": [
       "{0}"
      ]
     },
     "execution_count": 33,
     "metadata": {},
     "output_type": "execute_result"
    }
   ],
   "source": [
    "settt = {0,False}\n",
    "settt"
   ]
  },
  {
   "cell_type": "code",
   "execution_count": 34,
   "id": "16f39047",
   "metadata": {},
   "outputs": [
    {
     "data": {
      "text/plain": [
       "{False}"
      ]
     },
     "execution_count": 34,
     "metadata": {},
     "output_type": "execute_result"
    }
   ],
   "source": [
    "settt = {False,0}\n",
    "settt"
   ]
  },
  {
   "cell_type": "code",
   "execution_count": 35,
   "id": "73f129e1",
   "metadata": {},
   "outputs": [
    {
     "data": {
      "text/plain": [
       "{10, 2, 20, 30, 40, 50, True, 'abc', 'i have', 'no', 'yes'}"
      ]
     },
     "execution_count": 35,
     "metadata": {},
     "output_type": "execute_result"
    }
   ],
   "source": [
    "set5.add(1) # true is present so it will not add 1\n",
    "set5"
   ]
  },
  {
   "cell_type": "code",
   "execution_count": 36,
   "id": "b0fd52db",
   "metadata": {},
   "outputs": [],
   "source": [
    "set4.update(set2)"
   ]
  },
  {
   "cell_type": "code",
   "execution_count": 37,
   "id": "bddbd1b0",
   "metadata": {},
   "outputs": [
    {
     "data": {
      "text/plain": [
       "{2, 'Engg', 'Pratik', True, 'abc', 'course', 'dsa', 'i have', 'no', 'yes'}"
      ]
     },
     "execution_count": 37,
     "metadata": {},
     "output_type": "execute_result"
    }
   ],
   "source": [
    "set4"
   ]
  },
  {
   "cell_type": "code",
   "execution_count": 38,
   "id": "522ca320",
   "metadata": {},
   "outputs": [
    {
     "data": {
      "text/plain": [
       "{2, True, 'abc', 'i have', 'no', 'yes'}"
      ]
     },
     "execution_count": 38,
     "metadata": {},
     "output_type": "execute_result"
    }
   ],
   "source": [
    "set6 = set4.difference(set2)\n",
    "set6"
   ]
  },
  {
   "cell_type": "code",
   "execution_count": 39,
   "id": "03820537",
   "metadata": {},
   "outputs": [
    {
     "data": {
      "text/plain": [
       "{'Engg', 'Pratik', 'course', 'dsa'}"
      ]
     },
     "execution_count": 39,
     "metadata": {},
     "output_type": "execute_result"
    }
   ],
   "source": [
    "set7 = set4.intersection(set2)\n",
    "set7"
   ]
  },
  {
   "cell_type": "code",
   "execution_count": 40,
   "id": "fc0bceca",
   "metadata": {},
   "outputs": [
    {
     "data": {
      "text/plain": [
       "{'Engg', 'Pratik', 'course', 'dsa'}"
      ]
     },
     "execution_count": 40,
     "metadata": {},
     "output_type": "execute_result"
    }
   ],
   "source": [
    "set8 = set7.copy()\n",
    "set8"
   ]
  },
  {
   "cell_type": "code",
   "execution_count": 41,
   "id": "22d799c9",
   "metadata": {},
   "outputs": [
    {
     "data": {
      "text/plain": [
       "set()"
      ]
     },
     "execution_count": 41,
     "metadata": {},
     "output_type": "execute_result"
    }
   ],
   "source": [
    "set8.clear()\n",
    "set8"
   ]
  },
  {
   "cell_type": "code",
   "execution_count": 42,
   "id": "4af4abfa",
   "metadata": {},
   "outputs": [
    {
     "data": {
      "text/plain": [
       "{1}"
      ]
     },
     "execution_count": 42,
     "metadata": {},
     "output_type": "execute_result"
    }
   ],
   "source": [
    "set8.add(1)\n",
    "set8"
   ]
  },
  {
   "cell_type": "code",
   "execution_count": 49,
   "id": "64ca9b6f",
   "metadata": {},
   "outputs": [],
   "source": [
    "del sett"
   ]
  },
  {
   "cell_type": "code",
   "execution_count": 51,
   "id": "cff35478",
   "metadata": {},
   "outputs": [
    {
     "ename": "NameError",
     "evalue": "name 'sett' is not defined",
     "output_type": "error",
     "traceback": [
      "\u001b[1;31m---------------------------------------------------------------------------\u001b[0m",
      "\u001b[1;31mNameError\u001b[0m                                 Traceback (most recent call last)",
      "\u001b[1;32m<ipython-input-51-0caee724d46a>\u001b[0m in \u001b[0;36m<module>\u001b[1;34m\u001b[0m\n\u001b[1;32m----> 1\u001b[1;33m \u001b[0msett\u001b[0m \u001b[1;31m# it has been deleted so it will give error.\u001b[0m\u001b[1;33m\u001b[0m\u001b[1;33m\u001b[0m\u001b[0m\n\u001b[0m",
      "\u001b[1;31mNameError\u001b[0m: name 'sett' is not defined"
     ]
    }
   ],
   "source": [
    "sett # it has been deleted so it will give error."
   ]
  },
  {
   "cell_type": "code",
   "execution_count": null,
   "id": "ee44996d",
   "metadata": {},
   "outputs": [],
   "source": []
  }
 ],
 "metadata": {
  "kernelspec": {
   "display_name": "Python 3",
   "language": "python",
   "name": "python3"
  },
  "language_info": {
   "codemirror_mode": {
    "name": "ipython",
    "version": 3
   },
   "file_extension": ".py",
   "mimetype": "text/x-python",
   "name": "python",
   "nbconvert_exporter": "python",
   "pygments_lexer": "ipython3",
   "version": "3.8.8"
  }
 },
 "nbformat": 4,
 "nbformat_minor": 5
}
