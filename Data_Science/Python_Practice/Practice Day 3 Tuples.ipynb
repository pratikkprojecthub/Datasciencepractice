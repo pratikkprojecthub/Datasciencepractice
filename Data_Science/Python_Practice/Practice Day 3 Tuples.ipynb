{
 "cells": [
  {
   "cell_type": "markdown",
   "id": "0166a371",
   "metadata": {},
   "source": [
    "# TUPLES"
   ]
  },
  {
   "cell_type": "code",
   "execution_count": 1,
   "id": "5033421e",
   "metadata": {},
   "outputs": [],
   "source": [
    "tuple1 = (1,2,3,4,5)"
   ]
  },
  {
   "cell_type": "code",
   "execution_count": 2,
   "id": "dd7546fd",
   "metadata": {},
   "outputs": [
    {
     "data": {
      "text/plain": [
       "1"
      ]
     },
     "execution_count": 2,
     "metadata": {},
     "output_type": "execute_result"
    }
   ],
   "source": [
    "tuple1.count(4)"
   ]
  },
  {
   "cell_type": "code",
   "execution_count": 3,
   "id": "b3711e68",
   "metadata": {},
   "outputs": [],
   "source": [
    "tuple2 = ('one','two',\"three\",\"four\")"
   ]
  },
  {
   "cell_type": "code",
   "execution_count": 4,
   "id": "db3e21c5",
   "metadata": {},
   "outputs": [],
   "source": [
    "tuple3 = (True, False)"
   ]
  },
  {
   "cell_type": "code",
   "execution_count": 5,
   "id": "224e1e70",
   "metadata": {},
   "outputs": [],
   "source": [
    "tuple4 = (5j,1+2j)"
   ]
  },
  {
   "cell_type": "code",
   "execution_count": 6,
   "id": "be4a4b23",
   "metadata": {},
   "outputs": [],
   "source": [
    "tuple5 = (1.2,2.3,3.4,4.5,5.6)"
   ]
  },
  {
   "cell_type": "code",
   "execution_count": 7,
   "id": "d23980f8",
   "metadata": {},
   "outputs": [
    {
     "name": "stdout",
     "output_type": "stream",
     "text": [
      "<class 'tuple'>\n",
      "<class 'tuple'>\n",
      "<class 'tuple'>\n",
      "<class 'tuple'>\n",
      "<class 'tuple'>\n"
     ]
    }
   ],
   "source": [
    "print(type(tuple1))\n",
    "print(type(tuple2))\n",
    "print(type(tuple3))\n",
    "print(type(tuple4))\n",
    "print(type(tuple5))"
   ]
  },
  {
   "cell_type": "code",
   "execution_count": 8,
   "id": "4cc34187",
   "metadata": {},
   "outputs": [],
   "source": [
    "tuple6 = (1,1,1,1,1,1,1,1,1,1,1)"
   ]
  },
  {
   "cell_type": "code",
   "execution_count": 9,
   "id": "67831504",
   "metadata": {},
   "outputs": [
    {
     "data": {
      "text/plain": [
       "(1, 1, 1, 1, 1, 1, 1, 1, 1, 1, 1)"
      ]
     },
     "execution_count": 9,
     "metadata": {},
     "output_type": "execute_result"
    }
   ],
   "source": [
    "tuple6"
   ]
  },
  {
   "cell_type": "code",
   "execution_count": 10,
   "id": "5295bbea",
   "metadata": {},
   "outputs": [],
   "source": [
    "tuple7 = (\"abcdefghijklmnopqrstuvwxyz\")"
   ]
  },
  {
   "cell_type": "code",
   "execution_count": 11,
   "id": "9ff83197",
   "metadata": {},
   "outputs": [
    {
     "data": {
      "text/plain": [
       "str"
      ]
     },
     "execution_count": 11,
     "metadata": {},
     "output_type": "execute_result"
    }
   ],
   "source": [
    "type(tuple7)"
   ]
  },
  {
   "cell_type": "code",
   "execution_count": 14,
   "id": "7d32d240",
   "metadata": {},
   "outputs": [],
   "source": [
    "tuple8 = (\"abcdefghijklmnopqrstuvwxyz\",)"
   ]
  },
  {
   "cell_type": "code",
   "execution_count": 16,
   "id": "38c9dc96",
   "metadata": {},
   "outputs": [
    {
     "data": {
      "text/plain": [
       "tuple"
      ]
     },
     "execution_count": 16,
     "metadata": {},
     "output_type": "execute_result"
    }
   ],
   "source": [
    "type(tuple8)"
   ]
  },
  {
   "cell_type": "code",
   "execution_count": 17,
   "id": "90f65b32",
   "metadata": {},
   "outputs": [
    {
     "data": {
      "text/plain": [
       "1"
      ]
     },
     "execution_count": 17,
     "metadata": {},
     "output_type": "execute_result"
    }
   ],
   "source": [
    "tuple1[0]"
   ]
  },
  {
   "cell_type": "code",
   "execution_count": 18,
   "id": "44ddd809",
   "metadata": {},
   "outputs": [
    {
     "data": {
      "text/plain": [
       "'two'"
      ]
     },
     "execution_count": 18,
     "metadata": {},
     "output_type": "execute_result"
    }
   ],
   "source": [
    "tuple2[1]"
   ]
  },
  {
   "cell_type": "code",
   "execution_count": 19,
   "id": "88dab903",
   "metadata": {},
   "outputs": [
    {
     "data": {
      "text/plain": [
       "False"
      ]
     },
     "execution_count": 19,
     "metadata": {},
     "output_type": "execute_result"
    }
   ],
   "source": [
    "tuple3[1]"
   ]
  },
  {
   "cell_type": "code",
   "execution_count": 20,
   "id": "23f16e7a",
   "metadata": {},
   "outputs": [
    {
     "data": {
      "text/plain": [
       "5"
      ]
     },
     "execution_count": 20,
     "metadata": {},
     "output_type": "execute_result"
    }
   ],
   "source": [
    "tuple1[-1]"
   ]
  },
  {
   "cell_type": "code",
   "execution_count": 21,
   "id": "ac34c0da",
   "metadata": {},
   "outputs": [
    {
     "data": {
      "text/plain": [
       "'three'"
      ]
     },
     "execution_count": 21,
     "metadata": {},
     "output_type": "execute_result"
    }
   ],
   "source": [
    "tuple2[-2]"
   ]
  },
  {
   "cell_type": "code",
   "execution_count": 22,
   "id": "03e6dd64",
   "metadata": {},
   "outputs": [
    {
     "data": {
      "text/plain": [
       "(2, 3, 4)"
      ]
     },
     "execution_count": 22,
     "metadata": {},
     "output_type": "execute_result"
    }
   ],
   "source": [
    "tuple1[1:4]"
   ]
  },
  {
   "cell_type": "code",
   "execution_count": 23,
   "id": "f6a5c5bb",
   "metadata": {},
   "outputs": [
    {
     "data": {
      "text/plain": [
       "(2, 3, 4)"
      ]
     },
     "execution_count": 23,
     "metadata": {},
     "output_type": "execute_result"
    }
   ],
   "source": [
    "tuple1[-4:-1]"
   ]
  },
  {
   "cell_type": "code",
   "execution_count": 24,
   "id": "b0a55049",
   "metadata": {},
   "outputs": [
    {
     "data": {
      "text/plain": [
       "(2, 3, 4, 5)"
      ]
     },
     "execution_count": 24,
     "metadata": {},
     "output_type": "execute_result"
    }
   ],
   "source": [
    "tuple1[1:]"
   ]
  },
  {
   "cell_type": "code",
   "execution_count": 25,
   "id": "169452cc",
   "metadata": {},
   "outputs": [
    {
     "data": {
      "text/plain": [
       "(3, 4, 5)"
      ]
     },
     "execution_count": 25,
     "metadata": {},
     "output_type": "execute_result"
    }
   ],
   "source": [
    "tuple1[2:]"
   ]
  },
  {
   "cell_type": "code",
   "execution_count": 26,
   "id": "2e85f8da",
   "metadata": {},
   "outputs": [],
   "source": [
    "tuplelist = list(tuple2)"
   ]
  },
  {
   "cell_type": "code",
   "execution_count": 27,
   "id": "7b0789c4",
   "metadata": {},
   "outputs": [],
   "source": [
    "tuplelist.append(\"five\")"
   ]
  },
  {
   "cell_type": "code",
   "execution_count": 28,
   "id": "a3dbab01",
   "metadata": {},
   "outputs": [],
   "source": [
    "tuple2 = tuple(tuplelist)"
   ]
  },
  {
   "cell_type": "code",
   "execution_count": 29,
   "id": "bbb57078",
   "metadata": {},
   "outputs": [
    {
     "data": {
      "text/plain": [
       "('one', 'two', 'three', 'four', 'five')"
      ]
     },
     "execution_count": 29,
     "metadata": {},
     "output_type": "execute_result"
    }
   ],
   "source": [
    "tuple2"
   ]
  },
  {
   "cell_type": "code",
   "execution_count": 30,
   "id": "dfa1667c",
   "metadata": {},
   "outputs": [
    {
     "data": {
      "text/plain": [
       "('one', 'two', 'three', 'four')"
      ]
     },
     "execution_count": 30,
     "metadata": {},
     "output_type": "execute_result"
    }
   ],
   "source": [
    "tuplelist = list(tuple2)\n",
    "tuplelist.remove(\"five\")\n",
    "tuple2= tuple(tuplelist)\n",
    "tuple2"
   ]
  },
  {
   "cell_type": "code",
   "execution_count": 31,
   "id": "3bc2becb",
   "metadata": {},
   "outputs": [],
   "source": [
    "del tuple4"
   ]
  },
  {
   "cell_type": "code",
   "execution_count": 32,
   "id": "7cd25909",
   "metadata": {},
   "outputs": [
    {
     "data": {
      "text/plain": [
       "(1, 2, 3, 4, 5, 'abcdefghijklmnopqrstuvwxyz')"
      ]
     },
     "execution_count": 32,
     "metadata": {},
     "output_type": "execute_result"
    }
   ],
   "source": [
    "tuple9 = tuple1 + tuple8\n",
    "tuple9"
   ]
  },
  {
   "cell_type": "code",
   "execution_count": 33,
   "id": "18f6ade0",
   "metadata": {},
   "outputs": [
    {
     "data": {
      "text/plain": [
       "(1, 2, 3, 4, 5, 'one', 'two', 'three', 'four')"
      ]
     },
     "execution_count": 33,
     "metadata": {},
     "output_type": "execute_result"
    }
   ],
   "source": [
    "tuple1 = tuple1 + tuple2\n",
    "tuple1"
   ]
  },
  {
   "cell_type": "code",
   "execution_count": 34,
   "id": "c905d91b",
   "metadata": {},
   "outputs": [
    {
     "data": {
      "text/plain": [
       "1"
      ]
     },
     "execution_count": 34,
     "metadata": {},
     "output_type": "execute_result"
    }
   ],
   "source": [
    "tuple1.count(2)"
   ]
  },
  {
   "cell_type": "code",
   "execution_count": 35,
   "id": "6dbb86d6",
   "metadata": {},
   "outputs": [
    {
     "data": {
      "text/plain": [
       "11"
      ]
     },
     "execution_count": 35,
     "metadata": {},
     "output_type": "execute_result"
    }
   ],
   "source": [
    "tuple6.count(1)"
   ]
  },
  {
   "cell_type": "code",
   "execution_count": 37,
   "id": "cd3f2a57",
   "metadata": {},
   "outputs": [],
   "source": [
    "l1 = [22,11,5,\"pratik\",\"kartik\",\"abhi\"]"
   ]
  },
  {
   "cell_type": "code",
   "execution_count": 38,
   "id": "0dbe7b2a",
   "metadata": {},
   "outputs": [
    {
     "ename": "TypeError",
     "evalue": "'<' not supported between instances of 'str' and 'int'",
     "output_type": "error",
     "traceback": [
      "\u001b[1;31m--------------------------------------------------------------------\u001b[0m",
      "\u001b[1;31mTypeError\u001b[0m                          Traceback (most recent call last)",
      "\u001b[1;32m<ipython-input-38-b8f5f256bbcf>\u001b[0m in \u001b[0;36m<module>\u001b[1;34m\u001b[0m\n\u001b[1;32m----> 1\u001b[1;33m \u001b[0ml1\u001b[0m\u001b[1;33m.\u001b[0m\u001b[0msort\u001b[0m\u001b[1;33m(\u001b[0m\u001b[1;33m)\u001b[0m\u001b[1;33m\u001b[0m\u001b[1;33m\u001b[0m\u001b[0m\n\u001b[0m",
      "\u001b[1;31mTypeError\u001b[0m: '<' not supported between instances of 'str' and 'int'"
     ]
    }
   ],
   "source": [
    "l1.sort()"
   ]
  },
  {
   "cell_type": "code",
   "execution_count": 39,
   "id": "2f0f15ec",
   "metadata": {},
   "outputs": [
    {
     "data": {
      "text/plain": [
       "'abhi'"
      ]
     },
     "execution_count": 39,
     "metadata": {},
     "output_type": "execute_result"
    }
   ],
   "source": [
    "l1.pop()"
   ]
  },
  {
   "cell_type": "code",
   "execution_count": 40,
   "id": "d2cf3901",
   "metadata": {},
   "outputs": [
    {
     "data": {
      "text/plain": [
       "[22, 11, 5, 'pratik', 'kartik']"
      ]
     },
     "execution_count": 40,
     "metadata": {},
     "output_type": "execute_result"
    }
   ],
   "source": [
    "l1"
   ]
  },
  {
   "cell_type": "code",
   "execution_count": null,
   "id": "fc795c52",
   "metadata": {},
   "outputs": [],
   "source": []
  }
 ],
 "metadata": {
  "kernelspec": {
   "display_name": "Python 3",
   "language": "python",
   "name": "python3"
  },
  "language_info": {
   "codemirror_mode": {
    "name": "ipython",
    "version": 3
   },
   "file_extension": ".py",
   "mimetype": "text/x-python",
   "name": "python",
   "nbconvert_exporter": "python",
   "pygments_lexer": "ipython3",
   "version": "3.8.8"
  }
 },
 "nbformat": 4,
 "nbformat_minor": 5
}
