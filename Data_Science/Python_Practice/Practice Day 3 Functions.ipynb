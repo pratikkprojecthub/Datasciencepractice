{
 "cells": [
  {
   "cell_type": "markdown",
   "id": "6ad2ae62",
   "metadata": {},
   "source": [
    "# Functions"
   ]
  },
  {
   "cell_type": "code",
   "execution_count": 4,
   "id": "35c20649",
   "metadata": {},
   "outputs": [],
   "source": [
    "def function1():\n",
    "    print(\"Hello and Welcome Friends\")"
   ]
  },
  {
   "cell_type": "code",
   "execution_count": 5,
   "id": "7c944940",
   "metadata": {},
   "outputs": [
    {
     "name": "stdout",
     "output_type": "stream",
     "text": [
      "Hello and Welcome Friends\n"
     ]
    }
   ],
   "source": [
    "function1()"
   ]
  },
  {
   "cell_type": "code",
   "execution_count": 7,
   "id": "85cd1945",
   "metadata": {},
   "outputs": [
    {
     "name": "stdout",
     "output_type": "stream",
     "text": [
      "Hello and Welcome Friends I am Pratik\n"
     ]
    }
   ],
   "source": [
    "def function2(plus):\n",
    "    print(\"Hello and Welcome Friends\", plus)\n",
    "    \n",
    "function2(\"I am Pratik\")    "
   ]
  },
  {
   "cell_type": "code",
   "execution_count": 9,
   "id": "8c83572a",
   "metadata": {},
   "outputs": [
    {
     "name": "stdout",
     "output_type": "stream",
     "text": [
      "Hello and Welcome Friends I am Pratik\n"
     ]
    }
   ],
   "source": [
    "def function2(plus):\n",
    "    print(\"Hello and Welcome Friends\" + plus)\n",
    "    \n",
    "function2(\" I am Pratik\") "
   ]
  },
  {
   "cell_type": "code",
   "execution_count": 11,
   "id": "a00d27cd",
   "metadata": {},
   "outputs": [
    {
     "name": "stdout",
     "output_type": "stream",
     "text": [
      "Pratik K\n"
     ]
    }
   ],
   "source": [
    "def name1(fname,lname):\n",
    "    print(fname + ' ' + lname)\n",
    "    \n",
    "name1('Pratik','K')    "
   ]
  },
  {
   "cell_type": "code",
   "execution_count": 13,
   "id": "55729328",
   "metadata": {},
   "outputs": [
    {
     "name": "stdout",
     "output_type": "stream",
     "text": [
      "Kartik K\n"
     ]
    }
   ],
   "source": [
    "name1('Kartik','K')"
   ]
  },
  {
   "cell_type": "code",
   "execution_count": 14,
   "id": "e270e60e",
   "metadata": {},
   "outputs": [
    {
     "name": "stdout",
     "output_type": "stream",
     "text": [
      "Hello and Welcome Friends I am Pratik K O\n"
     ]
    }
   ],
   "source": [
    "def function2(*plus):\n",
    "    print(\"Hello and Welcome Friends\" + plus[0],plus[1],plus[2])\n",
    "    \n",
    "function2(\" I am Pratik\",\"K\",\"O\") "
   ]
  },
  {
   "cell_type": "code",
   "execution_count": 15,
   "id": "32c6aa95",
   "metadata": {},
   "outputs": [
    {
     "name": "stdout",
     "output_type": "stream",
     "text": [
      "Pratik K\n"
     ]
    }
   ],
   "source": [
    "def name1(fname,lname):\n",
    "    print(fname + ' ' + lname)\n",
    "    \n",
    "name1(fname=\"Pratik\",lname=\"K\")    "
   ]
  },
  {
   "cell_type": "code",
   "execution_count": 16,
   "id": "f1867603",
   "metadata": {},
   "outputs": [
    {
     "name": "stdout",
     "output_type": "stream",
     "text": [
      "Pratik K\n"
     ]
    }
   ],
   "source": [
    "def name1(lname,fname):\n",
    "    print(fname + ' ' + lname)\n",
    "    \n",
    "name1(fname=\"Pratik\",lname=\"K\")    "
   ]
  },
  {
   "cell_type": "code",
   "execution_count": 18,
   "id": "82cc743f",
   "metadata": {},
   "outputs": [
    {
     "name": "stdout",
     "output_type": "stream",
     "text": [
      "Pratik K\n"
     ]
    }
   ],
   "source": [
    "def name1(fname,lname):\n",
    "    print(fname + ' ' + lname)\n",
    "    \n",
    "name1(fname=\"Pratik\",lname=\"K\")    "
   ]
  },
  {
   "cell_type": "code",
   "execution_count": 20,
   "id": "d721e333",
   "metadata": {},
   "outputs": [
    {
     "name": "stdout",
     "output_type": "stream",
     "text": [
      "Hello and Welcome Friends to my practice sessions\n",
      "Hello and Welcome Friends I am Pratik\n"
     ]
    }
   ],
   "source": [
    "def function2(plus = \"I am Pratik\"):\n",
    "  print(\"Hello and Welcome Friends\",plus)\n",
    "\n",
    "function2('to my practice sessions')\n",
    "function2()"
   ]
  },
  {
   "cell_type": "code",
   "execution_count": 22,
   "id": "bab8fc82",
   "metadata": {},
   "outputs": [
    {
     "data": {
      "text/plain": [
       "4"
      ]
     },
     "execution_count": 22,
     "metadata": {},
     "output_type": "execute_result"
    }
   ],
   "source": [
    "def dif_fun(a,b):\n",
    "  c = a-b\n",
    "  return c\n",
    "\n",
    "dif_fun(5,1)"
   ]
  },
  {
   "cell_type": "code",
   "execution_count": 24,
   "id": "5c8902c6",
   "metadata": {},
   "outputs": [
    {
     "data": {
      "text/plain": [
       "-1"
      ]
     },
     "execution_count": 24,
     "metadata": {},
     "output_type": "execute_result"
    }
   ],
   "source": [
    "dif_fun(2,3)"
   ]
  },
  {
   "cell_type": "code",
   "execution_count": null,
   "id": "151b9f14",
   "metadata": {},
   "outputs": [],
   "source": []
  }
 ],
 "metadata": {
  "kernelspec": {
   "display_name": "Python 3",
   "language": "python",
   "name": "python3"
  },
  "language_info": {
   "codemirror_mode": {
    "name": "ipython",
    "version": 3
   },
   "file_extension": ".py",
   "mimetype": "text/x-python",
   "name": "python",
   "nbconvert_exporter": "python",
   "pygments_lexer": "ipython3",
   "version": "3.8.8"
  }
 },
 "nbformat": 4,
 "nbformat_minor": 5
}
